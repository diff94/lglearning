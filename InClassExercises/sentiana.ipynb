{
 "cells": [
  {
   "cell_type": "code",
   "execution_count": 15,
   "metadata": {},
   "outputs": [
    {
     "name": "stdout",
     "output_type": "stream",
     "text": [
      "Collecting snownlp\n",
      "  Using cached snownlp-0.12.3.tar.gz (37.6 MB)\n",
      "Using legacy 'setup.py install' for snownlp, since package 'wheel' is not installed.\n",
      "Installing collected packages: snownlp\n",
      "    Running setup.py install for snownlp: started\n",
      "    Running setup.py install for snownlp: finished with status 'done'\n",
      "Successfully installed snownlp-0.12.3\n",
      "Note: you may need to restart the kernel to use updated packages.\n"
     ]
    },
    {
     "name": "stderr",
     "output_type": "stream",
     "text": [
      "WARNING: You are using pip version 21.0.1; however, version 22.2.2 is available.\n",
      "You should consider upgrading via the 'c:\\Users\\am\\AppData\\Local\\Programs\\Python\\Python39\\python.exe -m pip install --upgrade pip' command.\n"
     ]
    }
   ],
   "source": [
    "pip install snownlp"
   ]
  },
  {
   "cell_type": "code",
   "execution_count": 16,
   "metadata": {},
   "outputs": [],
   "source": [
    "import snownlp"
   ]
  },
  {
   "cell_type": "code",
   "execution_count": 20,
   "metadata": {},
   "outputs": [],
   "source": [
    "\n",
    "from snownlp import SnowNLP\n",
    "\n",
    "s = SnowNLP(u'今天是周六。')"
   ]
  },
  {
   "cell_type": "code",
   "execution_count": 21,
   "metadata": {},
   "outputs": [
    {
     "data": {
      "text/plain": [
       "0.5263157894736844"
      ]
     },
     "execution_count": 21,
     "metadata": {},
     "output_type": "execute_result"
    }
   ],
   "source": [
    "s.sentiments"
   ]
  },
  {
   "cell_type": "code",
   "execution_count": 18,
   "metadata": {},
   "outputs": [
    {
     "data": {
      "text/plain": [
       "['今天', '是', '周六', '。']"
      ]
     },
     "execution_count": 18,
     "metadata": {},
     "output_type": "execute_result"
    }
   ],
   "source": [
    "s.words"
   ]
  },
  {
   "cell_type": "code",
   "execution_count": 28,
   "metadata": {},
   "outputs": [
    {
     "data": {
      "text/plain": [
       "[('我', 'r'), ('喜欢', 'v'), ('学', 'v'), ('语言', 'n'), ('。', 'w')]"
      ]
     },
     "execution_count": 28,
     "metadata": {},
     "output_type": "execute_result"
    }
   ],
   "source": [
    "s = SnowNLP(u'我喜欢学语言。')\n",
    "list(s.tags)"
   ]
  },
  {
   "cell_type": "code",
   "execution_count": 34,
   "metadata": {},
   "outputs": [
    {
     "data": {
      "text/plain": [
       "'我'"
      ]
     },
     "execution_count": 34,
     "metadata": {},
     "output_type": "execute_result"
    }
   ],
   "source": [
    "list(s.tags)[0][0]"
   ]
  },
  {
   "cell_type": "code",
   "execution_count": 36,
   "metadata": {},
   "outputs": [
    {
     "data": {
      "text/plain": [
       "0.5262327818078083"
      ]
     },
     "execution_count": 36,
     "metadata": {},
     "output_type": "execute_result"
    }
   ],
   "source": [
    "SnowNLP(list(s.tags)[0][0]).sentiments"
   ]
  },
  {
   "cell_type": "code",
   "execution_count": 23,
   "metadata": {},
   "outputs": [
    {
     "data": {
      "text/plain": [
       "0.9034888480793305"
      ]
     },
     "execution_count": 23,
     "metadata": {},
     "output_type": "execute_result"
    }
   ],
   "source": [
    "s.sentiments"
   ]
  },
  {
   "cell_type": "code",
   "execution_count": 25,
   "metadata": {},
   "outputs": [
    {
     "data": {
      "text/plain": [
       "'我喜欢学语言。'"
      ]
     },
     "execution_count": 25,
     "metadata": {},
     "output_type": "execute_result"
    }
   ],
   "source": [
    "s.han"
   ]
  },
  {
   "cell_type": "code",
   "execution_count": 26,
   "metadata": {},
   "outputs": [],
   "source": [
    "s = SnowNLP(u'我討厭你。')"
   ]
  },
  {
   "cell_type": "code",
   "execution_count": 27,
   "metadata": {},
   "outputs": [
    {
     "data": {
      "text/plain": [
       "0.4737672181921908"
      ]
     },
     "execution_count": 27,
     "metadata": {},
     "output_type": "execute_result"
    }
   ],
   "source": [
    "s.sentiments"
   ]
  },
  {
   "cell_type": "code",
   "execution_count": 45,
   "metadata": {},
   "outputs": [
    {
     "data": {
      "text/plain": [
       "['我愛語言學']"
      ]
     },
     "execution_count": 45,
     "metadata": {},
     "output_type": "execute_result"
    }
   ],
   "source": [
    "docx = \"我愛語言學\"\n",
    "docx.split()"
   ]
  },
  {
   "cell_type": "code",
   "execution_count": 46,
   "metadata": {},
   "outputs": [
    {
     "ename": "AttributeError",
     "evalue": "'list' object has no attribute 'split'",
     "output_type": "error",
     "traceback": [
      "\u001b[1;31m---------------------------------------------------------------------------\u001b[0m",
      "\u001b[1;31mAttributeError\u001b[0m                            Traceback (most recent call last)",
      "Cell \u001b[1;32mIn [46], line 2\u001b[0m\n\u001b[0;32m      1\u001b[0m docx \u001b[38;5;241m=\u001b[39m [\u001b[38;5;124m\"\u001b[39m\u001b[38;5;124m我愛語言學\u001b[39m\u001b[38;5;124m\"\u001b[39m,\u001b[38;5;124m\"\u001b[39m\u001b[38;5;124m我今天好累\u001b[39m\u001b[38;5;124m\"\u001b[39m]\n\u001b[1;32m----> 2\u001b[0m \u001b[43mdocx\u001b[49m\u001b[38;5;241;43m.\u001b[39;49m\u001b[43msplit\u001b[49m()\n",
      "\u001b[1;31mAttributeError\u001b[0m: 'list' object has no attribute 'split'"
     ]
    }
   ],
   "source": [
    "docx = [\"我愛語言學\",\"我今天好累\"]\n",
    "docx.split()"
   ]
  },
  {
   "cell_type": "code",
   "execution_count": 52,
   "metadata": {},
   "outputs": [
    {
     "data": {
      "text/plain": [
       "['我愛語言學', '我今天好累']"
      ]
     },
     "execution_count": 52,
     "metadata": {},
     "output_type": "execute_result"
    }
   ],
   "source": [
    "docx = \"我愛語言學/我今天好累\"\n",
    "docx.split(\"/\")"
   ]
  },
  {
   "cell_type": "code",
   "execution_count": 49,
   "metadata": {},
   "outputs": [
    {
     "name": "stdout",
     "output_type": "stream",
     "text": [
      "[('我', 'r'), 0.5262327818078083, ('愛', 'Rg'), 0.875] [('語言', 'Rg'), 0.5, ('學', 'Rg'), 0.5]\n"
     ]
    }
   ],
   "source": [
    "pos_list=[]\n",
    "neg_list=[]\n",
    "neu_list=[]\n",
    "docx = \"我愛語言學\"\n",
    "s = SnowNLP(docx)\n",
    "for i in list(s.tags)[0:len(list(s.tags))]:\n",
    "\t\tres = SnowNLP(i[0]).sentiments \n",
    "        #polarity_scores['compound']是SentimentIntensityAnalyzer的\n",
    "        #因為compound是他ouput的real sentiment\n",
    "\t\tif res > 0.5: #我這裡修改值 因為snownlp的model訓練出來是非負值的\n",
    "\t\t\tpos_list.append(i)\n",
    "\t\t\tpos_list.append(res)\n",
    "\n",
    "\t\telif res <= 0.5:\n",
    "\t\t\tneg_list.append(i)\n",
    "\t\t\tneg_list.append(res)\n",
    "\t\telse:\n",
    "\t\t\tneu_list.append(i)\n",
    "print (pos_list,neg_list)\n"
   ]
  },
  {
   "cell_type": "code",
   "execution_count": 14,
   "metadata": {},
   "outputs": [
    {
     "name": "stdout",
     "output_type": "stream",
     "text": [
      "0.8675081527338344\n",
      "0.8675081527338344\n"
     ]
    }
   ],
   "source": [
    "text_1 = '人生好难啊' '\n",
    "s_1 = SnowNLP(text_1)\n",
    "text_2 = '人生好难啊，要怎样才能每天开心的活着呢？'\n",
    "s_2 = SnowNLP(text_1)\n",
    "print(s_1.sentiments)\n",
    "print(s_2.sentiments)\n"
   ]
  },
  {
   "cell_type": "code",
   "execution_count": 5,
   "metadata": {},
   "outputs": [
    {
     "name": "stdout",
     "output_type": "stream",
     "text": [
      "0.5552019733877455\n",
      "0.8877537976021194\n",
      "0.5864302872787684\n",
      "0.5138566178336468\n"
     ]
    }
   ],
   "source": [
    "text_3 = SnowNLP(u'时间不够用，每天还是努力学习。也许我是傻蛋，但我有一天会成功')\n",
    "sent = text_3.sentences\n",
    "for sen in sent:\n",
    "    s_3 = SnowNLP(sen)\n",
    "    print(s_3.sentiments)"
   ]
  },
  {
   "cell_type": "markdown",
   "metadata": {},
   "source": [
    "    ## 規則不好寫，可以參見\n",
    "    ```\n",
    "    snownlp-master/snownlp/sentiment/neg.txt\n",
    "    snownlp-master/snownlp/sentiment/pos.txt\n",
    "    ```\n",
    "    `vaderSentiment` 算是利用詞典與規則方法中較厲害的，速度也快，但是可惜不支援中文。\n",
    "    https://github.com/cjhutto/vaderSentiment/blob/master/vaderSentiment/vader_lexicon.txt\n",
    "    ```"
   ]
  },
  {
   "cell_type": "code",
   "execution_count": null,
   "metadata": {},
   "outputs": [],
   "source": []
  }
 ],
 "metadata": {
  "kernelspec": {
   "display_name": "Python 3.9.2 64-bit",
   "language": "python",
   "name": "python3"
  },
  "language_info": {
   "codemirror_mode": {
    "name": "ipython",
    "version": 3
   },
   "file_extension": ".py",
   "mimetype": "text/x-python",
   "name": "python",
   "nbconvert_exporter": "python",
   "pygments_lexer": "ipython3",
   "version": "3.9.2"
  },
  "orig_nbformat": 4,
  "vscode": {
   "interpreter": {
    "hash": "d215a0734513fc1339703e20985f6a193d791a40d147b97c1e24ff8963e09679"
   }
  }
 },
 "nbformat": 4,
 "nbformat_minor": 2
}
